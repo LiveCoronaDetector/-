{
  "nbformat": 4,
  "nbformat_minor": 0,
  "metadata": {
    "colab": {
      "name": "regional_confirmed, recovered,deceased",
      "provenance": [],
      "collapsed_sections": []
    },
    "kernelspec": {
      "name": "python3",
      "display_name": "Python 3"
    }
  },
  "cells": [
    {
      "cell_type": "code",
      "metadata": {
        "id": "DFgvEO54olNa",
        "colab_type": "code",
        "colab": {
          "base_uri": "https://localhost:8080/",
          "height": 217
        },
        "outputId": "d43edf93-33e5-4cc2-e8f9-d797b050af3f"
      },
      "source": [
        "from bs4 import BeautifulSoup\n",
        "from urllib.request import urlopen\n",
        "import urllib.request\n",
        "import pandas as pd\n",
        "\n",
        "html = urlopen(\"http://ncov.mohw.go.kr/bdBoardList_Real.do?brdId=1&brdGubun=13&ncvContSeq=&contSeq=&board_id=&gubun=\")\n",
        "source = html.read()\n",
        "html.close()\n",
        "\n",
        "soup = BeautifulSoup(source, 'lxml')\n",
        "table = soup.find(\"div\", class_ = \"data_table mgt24\")\n",
        "tables1 = table.find_all(\"tbody\")\n",
        "#print(tables1)\n",
        "tables2 = table.find_all(\"td\")\n",
        "#print(tables2)\n",
        "tables3 = table.find_all(\"tr\")\n",
        "print(tables3)"
      ],
      "execution_count": 16,
      "outputs": [
        {
          "output_type": "stream",
          "text": [
            "[<tr>\n",
            "<th rowspan=\"2\" scope=\"col\">시도명</th>\n",
            "<th rowspan=\"2\" scope=\"col\">전일대비<br/>확진환자<br/>증감</th>\n",
            "<th colspan=\"4\" id=\"status_con\">확진환자 (명)</th>\n",
            "</tr>, <tr>\n",
            "<th id=\"s_type1\" scope=\"col\">확진<br/>환자수</th>\n",
            "<th id=\"s_type4\" scope=\"col\">격리<br/>해제수</th>\n",
            "<th id=\"s_type2\" scope=\"col\">사망자<br/>수</th>\n",
            "<th id=\"s_type3\" scope=\"col\">발생률<span class=\"txt_ntc_bold\"> (*)</span></th>\n",
            "</tr>, <tr class=\"sumline\"><th scope=\"row\">합계</th><td class=\"number\">98</td><td class=\"number\" header=\"status_con s_type1\">8897</td><td class=\"number\" header=\"status_con s_type4\">2909</td><td class=\"number\" header=\"status_con s_type2\">104</td><td class=\"number\" header=\"status_con s_type3\">17.16</td></tr>, <tr><th scope=\"row\">서울</th><td class=\"number\">10</td><td class=\"number\" header=\"status_con s_type1\">324</td><td class=\"number\" header=\"status_con s_type4\">64</td><td class=\"number\" header=\"status_con s_type2\">0</td><td class=\"number\" header=\"status_con s_type3\">3.33</td></tr>, <tr><th scope=\"row\">부산</th><td class=\"number\">0</td><td class=\"number\" header=\"status_con s_type1\">108</td><td class=\"number\" header=\"status_con s_type4\">69</td><td class=\"number\" header=\"status_con s_type2\">1</td><td class=\"number\" header=\"status_con s_type3\">3.17</td></tr>, <tr><th scope=\"row\">대구</th><td class=\"number\">43</td><td class=\"number\" header=\"status_con s_type1\">6387</td><td class=\"number\" header=\"status_con s_type4\">2107</td><td class=\"number\" header=\"status_con s_type2\">75</td><td class=\"number\" header=\"status_con s_type3\">262.14</td></tr>, <tr><th scope=\"row\">인천</th><td class=\"number\">0</td><td class=\"number\" header=\"status_con s_type1\">40</td><td class=\"number\" header=\"status_con s_type4\">8</td><td class=\"number\" header=\"status_con s_type2\">0</td><td class=\"number\" header=\"status_con s_type3\">1.35</td></tr>, <tr><th scope=\"row\">광주</th><td class=\"number\">1</td><td class=\"number\" header=\"status_con s_type1\">19</td><td class=\"number\" header=\"status_con s_type4\">10</td><td class=\"number\" header=\"status_con s_type2\">0</td><td class=\"number\" header=\"status_con s_type3\">1.3</td></tr>, <tr><th scope=\"row\">대전</th><td class=\"number\">2</td><td class=\"number\" header=\"status_con s_type1\">24</td><td class=\"number\" header=\"status_con s_type4\">6</td><td class=\"number\" header=\"status_con s_type2\">0</td><td class=\"number\" header=\"status_con s_type3\">1.63</td></tr>, <tr><th scope=\"row\">울산</th><td class=\"number\">0</td><td class=\"number\" header=\"status_con s_type1\">36</td><td class=\"number\" header=\"status_con s_type4\">12</td><td class=\"number\" header=\"status_con s_type2\">0</td><td class=\"number\" header=\"status_con s_type3\">3.14</td></tr>, <tr><th scope=\"row\">세종</th><td class=\"number\">0</td><td class=\"number\" header=\"status_con s_type1\">41</td><td class=\"number\" header=\"status_con s_type4\">3</td><td class=\"number\" header=\"status_con s_type2\">0</td><td class=\"number\" header=\"status_con s_type3\">11.98</td></tr>, <tr><th scope=\"row\">경기</th><td class=\"number\">16</td><td class=\"number\" header=\"status_con s_type1\">337</td><td class=\"number\" header=\"status_con s_type4\">82</td><td class=\"number\" header=\"status_con s_type2\">3</td><td class=\"number\" header=\"status_con s_type3\">2.54</td></tr>, <tr><th scope=\"row\">강원</th><td class=\"number\">0</td><td class=\"number\" header=\"status_con s_type1\">30</td><td class=\"number\" header=\"status_con s_type4\">13</td><td class=\"number\" header=\"status_con s_type2\">1</td><td class=\"number\" header=\"status_con s_type3\">1.95</td></tr>, <tr><th scope=\"row\">충북</th><td class=\"number\">1</td><td class=\"number\" header=\"status_con s_type1\">35</td><td class=\"number\" header=\"status_con s_type4\">9</td><td class=\"number\" header=\"status_con s_type2\">0</td><td class=\"number\" header=\"status_con s_type3\">2.19</td></tr>, <tr><th scope=\"row\">충남</th><td class=\"number\">1</td><td class=\"number\" header=\"status_con s_type1\">120</td><td class=\"number\" header=\"status_con s_type4\">39</td><td class=\"number\" header=\"status_con s_type2\">0</td><td class=\"number\" header=\"status_con s_type3\">5.65</td></tr>, <tr><th scope=\"row\">전북</th><td class=\"number\">0</td><td class=\"number\" header=\"status_con s_type1\">10</td><td class=\"number\" header=\"status_con s_type4\">7</td><td class=\"number\" header=\"status_con s_type2\">0</td><td class=\"number\" header=\"status_con s_type3\">0.55</td></tr>, <tr><th scope=\"row\">전남</th><td class=\"number\">1</td><td class=\"number\" header=\"status_con s_type1\">6</td><td class=\"number\" header=\"status_con s_type4\">3</td><td class=\"number\" header=\"status_con s_type2\">0</td><td class=\"number\" header=\"status_con s_type3\">0.32</td></tr>, <tr><th scope=\"row\">경북</th><td class=\"number\">11</td><td class=\"number\" header=\"status_con s_type1\">1254</td><td class=\"number\" header=\"status_con s_type4\">432</td><td class=\"number\" header=\"status_con s_type2\">24</td><td class=\"number\" header=\"status_con s_type3\">47.1</td></tr>, <tr><th scope=\"row\">경남</th><td class=\"number\">1</td><td class=\"number\" header=\"status_con s_type1\">88</td><td class=\"number\" header=\"status_con s_type4\">42</td><td class=\"number\" header=\"status_con s_type2\">0</td><td class=\"number\" header=\"status_con s_type3\">2.62</td></tr>, <tr><th scope=\"row\">제주</th><td class=\"number\">0</td><td class=\"number\" header=\"status_con s_type1\">4</td><td class=\"number\" header=\"status_con s_type4\">3</td><td class=\"number\" header=\"status_con s_type2\">0</td><td class=\"number\" header=\"status_con s_type3\">0.6</td></tr>, <tr><th scope=\"row\">검역</th><td class=\"number\">11</td><td class=\"number\" header=\"status_con s_type1\">34</td><td class=\"number\" header=\"status_con s_type4\">0</td><td class=\"number\" header=\"status_con s_type2\">0</td><td class=\"number\" header=\"status_con s_type3\">-</td></tr>]\n"
          ],
          "name": "stdout"
        }
      ]
    },
    {
      "cell_type": "code",
      "metadata": {
        "id": "JtszGt0IraDL",
        "colab_type": "code",
        "colab": {
          "base_uri": "https://localhost:8080/",
          "height": 395
        },
        "outputId": "5a559c56-a3c6-4026-c5dc-97531cbeef71"
      },
      "source": [
        "confirmed_name=[]\n",
        "for i in range(0, len(tables3)) :\n",
        "    a =  tables3[i].find_all(\"th\", scope=\"row\")\n",
        "    confirmed_name.append(a)\n",
        "\n",
        "confirmed_name"
      ],
      "execution_count": 24,
      "outputs": [
        {
          "output_type": "execute_result",
          "data": {
            "text/plain": [
              "[[],\n",
              " [],\n",
              " [<th scope=\"row\">합계</th>],\n",
              " [<th scope=\"row\">서울</th>],\n",
              " [<th scope=\"row\">부산</th>],\n",
              " [<th scope=\"row\">대구</th>],\n",
              " [<th scope=\"row\">인천</th>],\n",
              " [<th scope=\"row\">광주</th>],\n",
              " [<th scope=\"row\">대전</th>],\n",
              " [<th scope=\"row\">울산</th>],\n",
              " [<th scope=\"row\">세종</th>],\n",
              " [<th scope=\"row\">경기</th>],\n",
              " [<th scope=\"row\">강원</th>],\n",
              " [<th scope=\"row\">충북</th>],\n",
              " [<th scope=\"row\">충남</th>],\n",
              " [<th scope=\"row\">전북</th>],\n",
              " [<th scope=\"row\">전남</th>],\n",
              " [<th scope=\"row\">경북</th>],\n",
              " [<th scope=\"row\">경남</th>],\n",
              " [<th scope=\"row\">제주</th>],\n",
              " [<th scope=\"row\">검역</th>]]"
            ]
          },
          "metadata": {
            "tags": []
          },
          "execution_count": 24
        }
      ]
    },
    {
      "cell_type": "code",
      "metadata": {
        "id": "mp5z5W1MtBmR",
        "colab_type": "code",
        "colab": {
          "base_uri": "https://localhost:8080/",
          "height": 359
        },
        "outputId": "c8134ee9-2f07-46ce-cbca-7a0d5bf92f9f"
      },
      "source": [
        "confirmed_name = ['합계','서울','부산','대구','인천','광주','대전','울산','세종','경기','강원','충북','충남','전북','전남','경북','경남','제주','검역']"
      ],
      "execution_count": 40,
      "outputs": [
        {
          "output_type": "execute_result",
          "data": {
            "text/plain": [
              "['합계',\n",
              " '서울',\n",
              " '부산',\n",
              " '대구',\n",
              " '인천',\n",
              " '광주',\n",
              " '대전',\n",
              " '울산',\n",
              " '세종',\n",
              " '경기',\n",
              " '강원',\n",
              " '충북',\n",
              " '충남',\n",
              " '전북',\n",
              " '전남',\n",
              " '경북',\n",
              " '경남',\n",
              " '제주',\n",
              " '검역']"
            ]
          },
          "metadata": {
            "tags": []
          },
          "execution_count": 40
        }
      ]
    },
    {
      "cell_type": "code",
      "metadata": {
        "id": "7KGwEoFRo-lk",
        "colab_type": "code",
        "colab": {
          "base_uri": "https://localhost:8080/",
          "height": 359
        },
        "outputId": "a6681ef8-b17d-45fe-9d4e-d9fbcd2502bf"
      },
      "source": [
        "confirmed = table.find_all(\"td\",  header=\"status_con s_type1\")\n",
        "confirmed_num=[]\n",
        "for i in range(0, len(confirmed)) :\n",
        "    a = confirmed[i].get_text()\n",
        "    confirmed_num.append(a)\n",
        "confirmed_num"
      ],
      "execution_count": 7,
      "outputs": [
        {
          "output_type": "execute_result",
          "data": {
            "text/plain": [
              "['8897',\n",
              " '324',\n",
              " '108',\n",
              " '6387',\n",
              " '40',\n",
              " '19',\n",
              " '24',\n",
              " '36',\n",
              " '41',\n",
              " '337',\n",
              " '30',\n",
              " '35',\n",
              " '120',\n",
              " '10',\n",
              " '6',\n",
              " '1254',\n",
              " '88',\n",
              " '4',\n",
              " '34']"
            ]
          },
          "metadata": {
            "tags": []
          },
          "execution_count": 7
        }
      ]
    },
    {
      "cell_type": "code",
      "metadata": {
        "id": "UhiulcnJpnM7",
        "colab_type": "code",
        "colab": {
          "base_uri": "https://localhost:8080/",
          "height": 359
        },
        "outputId": "ac7df7cd-0e80-4c70-91f2-727646586879"
      },
      "source": [
        "recovered = table.find_all(\"td\",  header=\"status_con s_type4\")\n",
        "recovered_num=[]\n",
        "for i in range(0, len(recovered)) :\n",
        "    a = recovered[i].get_text()\n",
        "    recovered_num.append(a)\n",
        "recovered_num"
      ],
      "execution_count": 33,
      "outputs": [
        {
          "output_type": "execute_result",
          "data": {
            "text/plain": [
              "['2909',\n",
              " '64',\n",
              " '69',\n",
              " '2107',\n",
              " '8',\n",
              " '10',\n",
              " '6',\n",
              " '12',\n",
              " '3',\n",
              " '82',\n",
              " '13',\n",
              " '9',\n",
              " '39',\n",
              " '7',\n",
              " '3',\n",
              " '432',\n",
              " '42',\n",
              " '3',\n",
              " '0']"
            ]
          },
          "metadata": {
            "tags": []
          },
          "execution_count": 33
        }
      ]
    },
    {
      "cell_type": "code",
      "metadata": {
        "id": "7Q1P22jwuNsK",
        "colab_type": "code",
        "colab": {
          "base_uri": "https://localhost:8080/",
          "height": 359
        },
        "outputId": "6798fc2d-f7e5-4e44-eeaf-3593e9312b30"
      },
      "source": [
        "deceased = table.find_all(\"td\",  header=\"status_con s_type2\")\n",
        "deceased_num=[]\n",
        "for i in range(0, len(deceased)) :\n",
        "    a = deceased[i].get_text()\n",
        "    deceased_num.append(a)\n",
        "deceased_num"
      ],
      "execution_count": 34,
      "outputs": [
        {
          "output_type": "execute_result",
          "data": {
            "text/plain": [
              "['104',\n",
              " '0',\n",
              " '1',\n",
              " '75',\n",
              " '0',\n",
              " '0',\n",
              " '0',\n",
              " '0',\n",
              " '0',\n",
              " '3',\n",
              " '1',\n",
              " '0',\n",
              " '0',\n",
              " '0',\n",
              " '0',\n",
              " '24',\n",
              " '0',\n",
              " '0',\n",
              " '0']"
            ]
          },
          "metadata": {
            "tags": []
          },
          "execution_count": 34
        }
      ]
    },
    {
      "cell_type": "code",
      "metadata": {
        "id": "6sBgBjxsuVFr",
        "colab_type": "code",
        "colab": {
          "base_uri": "https://localhost:8080/",
          "height": 638
        },
        "outputId": "7b5f1c26-fe61-4e0c-955e-310e7e44ea68"
      },
      "source": [
        "data = pd.DataFrame({'confirmed':confirmed_num, 'recovered':recovered_num, 'deceased':deceased_num}, index=confirmed_name)\n",
        "data"
      ],
      "execution_count": 48,
      "outputs": [
        {
          "output_type": "execute_result",
          "data": {
            "text/html": [
              "<div>\n",
              "<style scoped>\n",
              "    .dataframe tbody tr th:only-of-type {\n",
              "        vertical-align: middle;\n",
              "    }\n",
              "\n",
              "    .dataframe tbody tr th {\n",
              "        vertical-align: top;\n",
              "    }\n",
              "\n",
              "    .dataframe thead th {\n",
              "        text-align: right;\n",
              "    }\n",
              "</style>\n",
              "<table border=\"1\" class=\"dataframe\">\n",
              "  <thead>\n",
              "    <tr style=\"text-align: right;\">\n",
              "      <th></th>\n",
              "      <th>confirmed</th>\n",
              "      <th>recovered</th>\n",
              "      <th>deceased</th>\n",
              "    </tr>\n",
              "  </thead>\n",
              "  <tbody>\n",
              "    <tr>\n",
              "      <th>합계</th>\n",
              "      <td>8897</td>\n",
              "      <td>2909</td>\n",
              "      <td>104</td>\n",
              "    </tr>\n",
              "    <tr>\n",
              "      <th>서울</th>\n",
              "      <td>324</td>\n",
              "      <td>64</td>\n",
              "      <td>0</td>\n",
              "    </tr>\n",
              "    <tr>\n",
              "      <th>부산</th>\n",
              "      <td>108</td>\n",
              "      <td>69</td>\n",
              "      <td>1</td>\n",
              "    </tr>\n",
              "    <tr>\n",
              "      <th>대구</th>\n",
              "      <td>6387</td>\n",
              "      <td>2107</td>\n",
              "      <td>75</td>\n",
              "    </tr>\n",
              "    <tr>\n",
              "      <th>인천</th>\n",
              "      <td>40</td>\n",
              "      <td>8</td>\n",
              "      <td>0</td>\n",
              "    </tr>\n",
              "    <tr>\n",
              "      <th>광주</th>\n",
              "      <td>19</td>\n",
              "      <td>10</td>\n",
              "      <td>0</td>\n",
              "    </tr>\n",
              "    <tr>\n",
              "      <th>대전</th>\n",
              "      <td>24</td>\n",
              "      <td>6</td>\n",
              "      <td>0</td>\n",
              "    </tr>\n",
              "    <tr>\n",
              "      <th>울산</th>\n",
              "      <td>36</td>\n",
              "      <td>12</td>\n",
              "      <td>0</td>\n",
              "    </tr>\n",
              "    <tr>\n",
              "      <th>세종</th>\n",
              "      <td>41</td>\n",
              "      <td>3</td>\n",
              "      <td>0</td>\n",
              "    </tr>\n",
              "    <tr>\n",
              "      <th>경기</th>\n",
              "      <td>337</td>\n",
              "      <td>82</td>\n",
              "      <td>3</td>\n",
              "    </tr>\n",
              "    <tr>\n",
              "      <th>강원</th>\n",
              "      <td>30</td>\n",
              "      <td>13</td>\n",
              "      <td>1</td>\n",
              "    </tr>\n",
              "    <tr>\n",
              "      <th>충북</th>\n",
              "      <td>35</td>\n",
              "      <td>9</td>\n",
              "      <td>0</td>\n",
              "    </tr>\n",
              "    <tr>\n",
              "      <th>충남</th>\n",
              "      <td>120</td>\n",
              "      <td>39</td>\n",
              "      <td>0</td>\n",
              "    </tr>\n",
              "    <tr>\n",
              "      <th>전북</th>\n",
              "      <td>10</td>\n",
              "      <td>7</td>\n",
              "      <td>0</td>\n",
              "    </tr>\n",
              "    <tr>\n",
              "      <th>전남</th>\n",
              "      <td>6</td>\n",
              "      <td>3</td>\n",
              "      <td>0</td>\n",
              "    </tr>\n",
              "    <tr>\n",
              "      <th>경북</th>\n",
              "      <td>1254</td>\n",
              "      <td>432</td>\n",
              "      <td>24</td>\n",
              "    </tr>\n",
              "    <tr>\n",
              "      <th>경남</th>\n",
              "      <td>88</td>\n",
              "      <td>42</td>\n",
              "      <td>0</td>\n",
              "    </tr>\n",
              "    <tr>\n",
              "      <th>제주</th>\n",
              "      <td>4</td>\n",
              "      <td>3</td>\n",
              "      <td>0</td>\n",
              "    </tr>\n",
              "    <tr>\n",
              "      <th>검역</th>\n",
              "      <td>34</td>\n",
              "      <td>0</td>\n",
              "      <td>0</td>\n",
              "    </tr>\n",
              "  </tbody>\n",
              "</table>\n",
              "</div>"
            ],
            "text/plain": [
              "   confirmed recovered deceased\n",
              "합계      8897      2909      104\n",
              "서울       324        64        0\n",
              "부산       108        69        1\n",
              "대구      6387      2107       75\n",
              "인천        40         8        0\n",
              "광주        19        10        0\n",
              "대전        24         6        0\n",
              "울산        36        12        0\n",
              "세종        41         3        0\n",
              "경기       337        82        3\n",
              "강원        30        13        1\n",
              "충북        35         9        0\n",
              "충남       120        39        0\n",
              "전북        10         7        0\n",
              "전남         6         3        0\n",
              "경북      1254       432       24\n",
              "경남        88        42        0\n",
              "제주         4         3        0\n",
              "검역        34         0        0"
            ]
          },
          "metadata": {
            "tags": []
          },
          "execution_count": 48
        }
      ]
    },
    {
      "cell_type": "code",
      "metadata": {
        "id": "rsUcSbpeuiXp",
        "colab_type": "code",
        "colab": {}
      },
      "source": [
        ""
      ],
      "execution_count": 0,
      "outputs": []
    }
  ]
}