{
  "nbformat": 4,
  "nbformat_minor": 0,
  "metadata": {
    "colab": {
      "name": "test_active_negative_crawling",
      "provenance": []
    },
    "kernelspec": {
      "name": "python3",
      "display_name": "Python 3"
    }
  },
  "cells": [
    {
      "cell_type": "markdown",
      "metadata": {
        "id": "v-DZKeAnbW-g",
        "colab_type": "text"
      },
      "source": [
        ""
      ]
    },
    {
      "cell_type": "code",
      "metadata": {
        "id": "WJsSNx3FbUr_",
        "colab_type": "code",
        "colab": {
          "base_uri": "https://localhost:8080/",
          "height": 116
        },
        "outputId": "45be0090-2309-48e1-f735-99ab94c6b7b7"
      },
      "source": [
        "from bs4 import BeautifulSoup\n",
        "from urllib.request import urlopen\n",
        "import urllib.request\n",
        "import pandas as pd\n",
        "\n",
        "html = urlopen(\"http://ncov.mohw.go.kr/bdBoardList_Real.do?brdId=1&brdGubun=11&ncvContSeq=&contSeq=&board_id=&gubun=\")\n",
        "source = html.read()\n",
        "html.close()\n",
        "\n",
        "soup = BeautifulSoup(source, 'lxml')\n",
        "table = soup.find(\"div\", class_ = \"data_table mgt16 mini\")\n",
        "tables1 = table.find_all(\"th\")\n",
        "tables2 = table.find_all(\"td\")\n",
        "#print(tables1)\n",
        "\n",
        "\n",
        "col = [\"isolated\",\"released\",\"deceased\",\"confirmed\",\"negative\",\"test-active\",\"active\",\"test\"]\n",
        "print(col)\n",
        "\n",
        "\n",
        "num=[]\n",
        "for i in range(0, len(tables2)) :\n",
        "    a = tables2[i].get_text()\n",
        "    num.append(a)\n",
        "    \n",
        "print(num)\n",
        "\n",
        "test_status = []\n",
        "test_status.append(num)\n",
        "test_status = pd.DataFrame(test_status)\n",
        "\n",
        "test_status =test_status.rename(columns = {test_status.columns[0]: col[0],\n",
        "                             test_status.columns[1]: col[1],\n",
        "                             test_status.columns[2]: col[2],\n",
        "                             test_status.columns[3]: col[3],\n",
        "                             test_status.columns[4]: col[4],\n",
        "                             test_status.columns[5]: col[5],\n",
        "                             test_status.columns[6]: col[6],\n",
        "                             test_status.columns[7]: col[7]})\n",
        "\n",
        "test_status = pd.DataFrame(test_status, columns=['test','active','negative','confirmed',\n",
        "                           'released','isolated','deceased'])\n",
        "test_status"
      ],
      "execution_count": 1,
      "outputs": [
        {
          "output_type": "stream",
          "text": [
            "['isolated', 'released', 'deceased', 'confirmed', 'negative', 'test-active', 'active', 'test']\n",
            "['5,884', '2,909', '104', '8,897', '308,343', '317,240', '14,540', '331,780']\n"
          ],
          "name": "stdout"
        },
        {
          "output_type": "execute_result",
          "data": {
            "text/html": [
              "<div>\n",
              "<style scoped>\n",
              "    .dataframe tbody tr th:only-of-type {\n",
              "        vertical-align: middle;\n",
              "    }\n",
              "\n",
              "    .dataframe tbody tr th {\n",
              "        vertical-align: top;\n",
              "    }\n",
              "\n",
              "    .dataframe thead th {\n",
              "        text-align: right;\n",
              "    }\n",
              "</style>\n",
              "<table border=\"1\" class=\"dataframe\">\n",
              "  <thead>\n",
              "    <tr style=\"text-align: right;\">\n",
              "      <th></th>\n",
              "      <th>test</th>\n",
              "      <th>active</th>\n",
              "      <th>negative</th>\n",
              "      <th>confirmed</th>\n",
              "      <th>released</th>\n",
              "      <th>isolated</th>\n",
              "      <th>deceased</th>\n",
              "    </tr>\n",
              "  </thead>\n",
              "  <tbody>\n",
              "    <tr>\n",
              "      <th>0</th>\n",
              "      <td>331,780</td>\n",
              "      <td>14,540</td>\n",
              "      <td>308,343</td>\n",
              "      <td>8,897</td>\n",
              "      <td>2,909</td>\n",
              "      <td>5,884</td>\n",
              "      <td>104</td>\n",
              "    </tr>\n",
              "  </tbody>\n",
              "</table>\n",
              "</div>"
            ],
            "text/plain": [
              "      test  active negative confirmed released isolated deceased\n",
              "0  331,780  14,540  308,343     8,897    2,909    5,884      104"
            ]
          },
          "metadata": {
            "tags": []
          },
          "execution_count": 1
        }
      ]
    },
    {
      "cell_type": "code",
      "metadata": {
        "id": "exiALa_4bXcR",
        "colab_type": "code",
        "colab": {}
      },
      "source": [
        ""
      ],
      "execution_count": 0,
      "outputs": []
    }
  ]
}